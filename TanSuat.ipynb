version https://git-lfs.github.com/spec/v1
oid sha256:7bbc12d2468fd7e978aecf496a5c7feccf57a2f24279b4c2503cc35900849253
size 18722260
